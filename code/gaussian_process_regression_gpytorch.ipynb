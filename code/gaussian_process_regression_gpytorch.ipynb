{
 "cells": [
  {
   "cell_type": "markdown",
   "metadata": {},
   "source": [
    "# GPyTorch"
   ]
  },
  {
   "cell_type": "markdown",
   "metadata": {},
   "source": [
    "# 计算Mean\n",
    "1. zero mean function ```gpytorch.means.ZeroMean()```\n",
    "2. constant mean function ```gpytorch.means.ConstantMean()```\n",
    "3. linear mean function ```gpytorch.means.LinearMean()```\n",
    "\n",
    "# 计算Covariance\n",
    "1. RBFKernel ```gpytorch.kernels.RBFKernel()```\n",
    "2. adding a scaling coefficient: ```kernels.ScaleKernel(gpytorch.kernels.RBFKernel())```\n",
    "\n",
    "一般会在核函数的输出上添加缩放系数。\n",
    "\n",
    "在核函数的输出上添加缩放系数是为了调整核函数的影响力。  \n",
    "\n",
    "例如，如果我们希望某个核函数的输出对预测结果的贡献更大，我们可以使用较大的缩放系数。相反，如果我们希望某个核函数的输出对预测结果的贡献较小，我们可以使用较小的缩放系数。  \n",
    "通过在核函数的输出上应用kernels.ScaleKernel()，我们可以乘以一个固定的缩放因子，以增加或减小核函数的输出。\n",
    "\n"
   ]
  },
  {
   "cell_type": "markdown",
   "metadata": {},
   "source": [
    "# exact GP and approximate GP\n",
    "1. Exact inference applies when the closed-form expression of the posterior is available. \n",
    "We can simple and quick to compute the posterior distribution using ```gpytorch.models.ExactGP```.\n",
    "2. Approximate inference applies when the posterior distribution involves high-dimensional integrals.\n",
    "It is difficult and time-consuming to compute.  In such cases we use ```gpytorch.models.ApproximateGP```."
   ]
  },
  {
   "cell_type": "markdown",
   "metadata": {},
   "source": [
    "### exact GP\n",
    "$$\n",
    "f(x) = -\\cos(\\pi x) + \\sin(4 \\pi x)\n",
    "$$"
   ]
  },
  {
   "cell_type": "code",
   "execution_count": 6,
   "metadata": {},
   "outputs": [],
   "source": [
    "import torch \n",
    "import numpy as np\n",
    "from matplotlib import pyplot as plt\n",
    "\n",
    "def f(x, noise=0):\n",
    "    \"\"\" \n",
    "    objective function\n",
    "    \"\"\"\n",
    "    return -torch.cos(np.pi * x) + torch.sin(4 * np.pi * x) + noise * torch.randn(*x.shape)"
   ]
  },
  {
   "cell_type": "code",
   "execution_count": 18,
   "metadata": {},
   "outputs": [
    {
     "name": "stdout",
     "output_type": "stream",
     "text": [
      "tensor([0.0500, 0.1500, 0.2500, 0.3500, 0.4500, 0.5500, 0.6500, 0.7500, 0.8500,\n",
      "        0.9500])\n",
      "tensor([-0.3821, -0.0597, -0.7451, -1.4902, -0.6087,  0.7095,  1.2641,  0.7171,\n",
      "        -0.1037,  0.4382])\n"
     ]
    },
    {
     "data": {
      "text/plain": [
       "[<matplotlib.lines.Line2D at 0x10892a860>]"
      ]
     },
     "execution_count": 18,
     "metadata": {},
     "output_type": "execute_result"
    },
    {
     "data": {
      "image/png": "[encoded data removed]",
      "text/plain": [
       "<Figure size 800x600 with 1 Axes>"
      ]
     },
     "metadata": {},
     "output_type": "display_data"
    }
   ],
   "source": [
    "# observation noise\n",
    "noise = 0.1\n",
    "# number of observations\n",
    "N =10\n",
    "# initial observations upon initiation 生成一个等间距的函数调用\n",
    "X_init = torch.linspace(0.05,0.95,N) \n",
    "y_init = f(X_init, noise)\n",
    "print(X_init)\n",
    "print(y_init)\n",
    "# plot noisy observations\n",
    "plt.figure(figsize=(8,6))\n",
    "plt.plot(X_init.numpy(), y_init.numpy(), 'kx', mew=2)"
   ]
  },
  {
   "cell_type": "markdown",
   "metadata": {},
   "source": [
    "# GPRegressor\n",
    "\n",
    "概率分布和边缘分布的区别：\n",
    "\n",
    "1. 概率分布 $p(f | x)$：这是指给定输入变量 $x$ 的情况下，目标变量 $f$ 的概率分布。在监督学习中，我们通常使用概率模型来建模输入与输出之间的关系。$p(f | x)$ 描述了模型对于给定输入 $x$ 的输出 $f$ 的不确定性。常见的例子是高斯过程模型，其中 $p(f | x)$ 是一个高斯分布。\n",
    "2. 边缘分布 $p(y | x)$：这是指给定输入变量 $x$ 的情况下，目标变量 $y$ 的概率分布。边缘分布是通过对概率分布 $p(f | x)$ 进行积分或求和得到的，其中 $y$ 是通过对 $f$ 进行某种函数变换得到的。在监督学习中，$y$ 通常是观测到的目标变量，而 $f$ 是模型对于给定输入 $x$ 的预测值。"
   ]
  },
  {
   "cell_type": "code",
   "execution_count": 14,
   "metadata": {},
   "outputs": [],
   "source": [
    "import gpytorch\n",
    "\n",
    "class GPRegressor(gpytorch.models.ExactGP):\n",
    "    def __init__(self, train_inputs, train_targets, mean, kernel, likelihood=None):\n",
    "        if likelihood is None:\n",
    "            likelihood = gpytorch.likelihoods.GaussianLikelihood()\n",
    "        # initiate the superclass ExactGP to refresh the posterior \n",
    "        super().__init__(train_inputs, train_targets, likelihood)\n",
    "        # store attributes\n",
    "        self.mean = mean\n",
    "        self.kernel = kernel\n",
    "        self.likelihood = likelihood\n",
    "    \n",
    "\n",
    "    def forward(self, x):\n",
    "        \"\"\"\n",
    "        Return:\n",
    "            a posterior multivariate normal distribution\n",
    "        \"\"\"\n",
    "        # mean and kernel are stored as attributes\n",
    "        mean_x = self.mean(x)\n",
    "        covar_x = self.kernel(x)\n",
    "        return gpytorch.distributions.MultivariateNormal(mean_x, covar_x)\n",
    "    \n",
    "    def predict(self, x):\n",
    "        \"\"\"\n",
    "        compute the marginal predictive distribution of y given x\n",
    "        \"\"\"\n",
    "        # set the model to evaluation mode\n",
    "        self.eval()\n",
    "        # perform inference without gradient propagation\n",
    "        with torch.no_grad():  # 在预测阶段，不需要计算梯度，因为只有前向传播\n",
    "            # get posterior distribution p(f|x)\n",
    "            pred = self(x)\n",
    "            # convert posterior distribution p(f|x) to p(y|x)\n",
    "            return self.likelihood(pred)"
   ]
  },
  {
   "cell_type": "code",
   "execution_count": 27,
   "metadata": {},
   "outputs": [
    {
     "name": "stdout",
     "output_type": "stream",
     "text": [
      "Parameter containing:\n",
      "tensor([0.], requires_grad=True)\n"
     ]
    },
    {
     "data": {
      "image/png": "[encoded data removed]",
      "text/plain": [
       "<Figure size 640x480 with 1 Axes>"
      ]
     },
     "metadata": {},
     "output_type": "display_data"
    }
   ],
   "source": [
    "def plot_model(model, xlim = None):\n",
    "    \"\"\"\n",
    "    \"\"\"\n",
    "    X_train = model.train_inputs[0].cpu().numpy()\n",
    "    y_train = model.train_targets.cpu().numpy()\n",
    "\n",
    "\n",
    "    # obtain range of x axis\n",
    "    if xlim is None:\n",
    "        xmin = float(X_train.min())\n",
    "        xmax = float(X_train.max())\n",
    "        x_range = xmax - xmin\n",
    "        xlim = [xmin - 0.05 * x_range, xmax + 0.05 * x_range]\n",
    "\n",
    "\n",
    "    model_tensor_example = list(model.parameters())[0]  \n",
    "    print(model_tensor_example)\n",
    "    # The .to() method is used to specify the target device.\n",
    "    # .to(model_tensor_example)将张量转换为与 model_tensor_example 张量相同的设备上\n",
    "    X_plot = torch.linspace(xlim[0],xlim[1], 200).to(model_tensor_example)\n",
    "\n",
    "    # generate predictive posterior distribution\n",
    "    model.eval()\n",
    "    predictive_distribution = model.predict(X_plot)\n",
    "    # obtain mean, upper and lower bounds   \n",
    "    lower, upper = predictive_distribution.confidence_region()\n",
    "    prediction = predictive_distribution.mean.cpu().numpy()\n",
    "    X_plot = X_plot.numpy()\n",
    "    # x_train和y_Train都是一维数组或者张量，可以直接用scatter画散点图\n",
    "    # marker='x'：指定散点的标记形状为 \"x\"。\n",
    "    # c='k'：指定散点的颜色为黑色。\n",
    "    plt.scatter(X_train, y_train, marker='x', c='k')\n",
    "    # 折线图：接受 X_plot 作为 x 坐标轴的数据，prediction 作为 y 坐标轴的数据，将它们连接起来绘制一条折线。\n",
    "    plt.plot(X_plot, prediction)\n",
    "    plt.fill_between(X_plot, lower, upper, alpha=0.1)\n",
    "    plt.xlabel('x', fontsize=14)\n",
    "    plt.ylabel('y', fontsize=14)\n",
    "\n",
    "\n",
    "mean_fn = gpytorch.means.ConstantMean()\n",
    "kernel_fn = gpytorch.kernels.ScaleKernel(gpytorch.kernels.RBFKernel())\n",
    "\n",
    "model = GPRegressor(X_init, y_init, mean_fn, kernel_fn)\n",
    "plot_model(model)"
   ]
  },
  {
   "cell_type": "code",
   "execution_count": null,
   "metadata": {},
   "outputs": [],
   "source": []
  }
 ],
 "metadata": {
  "kernelspec": {
   "display_name": "nn3.10",
   "language": "python",
   "name": "nn3.10"
  },
  "language_info": {
   "codemirror_mode": {
    "name": "ipython",
    "version": 3
   },
   "file_extension": ".py",
   "mimetype": "text/x-python",
   "name": "python",
   "nbconvert_exporter": "python",
   "pygments_lexer": "ipython3",
   "version": "3.10.12"
  }
 },
 "nbformat": 4,
 "nbformat_minor": 2
}
