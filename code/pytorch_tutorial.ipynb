{
 "cells": [
  {
   "cell_type": "code",
   "execution_count": 2,
   "metadata": {},
   "outputs": [],
   "source": [
    "import torch\n",
    "import numpy as np"
   ]
  },
  {
   "cell_type": "markdown",
   "metadata": {},
   "source": [
    "# tensor 和nparray的转换"
   ]
  },
  {
   "cell_type": "code",
   "execution_count": 14,
   "metadata": {},
   "outputs": [],
   "source": [
    "a = torch.tensor([1,2,3])\n",
    "b = np.array([2,3,4])\n",
    "\n",
    "b = torch.from_numpy(b)\n",
    "\n",
    "c = torch.add(a,b)\n",
    "a_grad = torch.tensor([1.0,2.0,3.0],requires_grad=True) # 将 requires_grad 设置为 True 时，PyTorch会跟踪该张量的操作，并在需要时计算其梯度。\n",
    "c = a_grad ** 2"
   ]
  },
  {
   "cell_type": "markdown",
   "metadata": {},
   "source": [
    "# 计算梯度\n",
    "\n",
    "为何BO中梯度如此重要?  \n",
    "Methods such as multi-start stochastic gradient ascent (as we want to maximize the acquisition function) heavily rely on the autograd feature in PyTorch."
   ]
  },
  {
   "cell_type": "code",
   "execution_count": 13,
   "metadata": {},
   "outputs": [
    {
     "name": "stdout",
     "output_type": "stream",
     "text": [
      "tensor(14., grad_fn=<SumBackward0>)\n",
      "tensor([2., 4., 6.])\n"
     ]
    }
   ],
   "source": [
    "# 将 requires_grad 设置为 True 时，PyTorch会跟踪该张量的操作，并在需要时计算其梯度。\n",
    "a_grad = torch.tensor([1.0,2.0,3.0],requires_grad=True) \n",
    "# 定义损失函数，这里使用一个简单的平方损失函数\n",
    "out = torch.sum(a_grad ** 2)\n",
    "print(out)  \n",
    "# 进行反向传播计算梯度\n",
    "out.backward()\n",
    "print(a_grad.grad)  #  a_grad 相对于某个损失函数（这里为out）的梯度"
   ]
  },
  {
   "cell_type": "code",
   "execution_count": 9,
   "metadata": {},
   "outputs": [
    {
     "data": {
      "text/plain": [
       "tensor(14., grad_fn=<SumBackward0>)"
      ]
     },
     "execution_count": 9,
     "metadata": {},
     "output_type": "execute_result"
    }
   ],
   "source": [
    "\n",
    "out"
   ]
  },
  {
   "cell_type": "code",
   "execution_count": 10,
   "metadata": {},
   "outputs": [],
   "source": []
  },
  {
   "cell_type": "code",
   "execution_count": 11,
   "metadata": {},
   "outputs": [
    {
     "name": "stdout",
     "output_type": "stream",
     "text": [
      "tensor([2., 4., 6.])\n"
     ]
    }
   ],
   "source": []
  },
  {
   "cell_type": "code",
   "execution_count": null,
   "metadata": {},
   "outputs": [],
   "source": []
  }
 ],
 "metadata": {
  "kernelspec": {
   "display_name": "nn3.10",
   "language": "python",
   "name": "nn3.10"
  },
  "language_info": {
   "codemirror_mode": {
    "name": "ipython",
    "version": 3
   },
   "file_extension": ".py",
   "mimetype": "text/x-python",
   "name": "python",
   "nbconvert_exporter": "python",
   "pygments_lexer": "ipython3",
   "version": "3.10.12"
  }
 },
 "nbformat": 4,
 "nbformat_minor": 2
}
