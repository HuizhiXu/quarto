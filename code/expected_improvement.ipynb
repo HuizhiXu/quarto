{
 "cells": [
  {
   "cell_type": "markdown",
   "metadata": {},
   "source": [
    "1. 从零开始实现基于NumPy和SciPy包的预期改进获取函数\n",
    "2. 使用一个现成的BO包来完成相同的任务"
   ]
  },
  {
   "cell_type": "code",
   "execution_count": 11,
   "metadata": {},
   "outputs": [],
   "source": [
    "import numpy as np\n",
    "import random\n",
    "import matplotlib.pyplot as plt\n",
    "from scipy.stats import norm\n",
    "from scipy.optimize import minimize\n",
    "from sklearn.gaussian_process import GaussianProcessRegressor\n",
    "from sklearn.gaussian_process.kernels import Matern, ConstantKernel\n",
    "\n",
    "SEED = 42\n",
    "random.seed(SEED)\n",
    "np.random.seed(SEED)\n",
    "%matplotlib inline\n",
    "\n"
   ]
  },
  {
   "cell_type": "code",
   "execution_count": 12,
   "metadata": {},
   "outputs": [],
   "source": [
    "# Define the objective function and search domain \n",
    "bounds = np.array([[-1.0, 2.0]])\n",
    "noise = 0.2\n",
    "\n",
    "# Objective function\n",
    "def f(x, noise=0):\n",
    "    return -np.sin(3*x) - x**2 + 0.7*x + noise * np.random.randn(*x.shape)\n",
    "\n"
   ]
  },
  {
   "cell_type": "code",
   "execution_count": 13,
   "metadata": {},
   "outputs": [
    {
     "data": {
      "text/plain": [
       "<matplotlib.legend.Legend at 0x130afbfa0>"
      ]
     },
     "execution_count": 13,
     "metadata": {},
     "output_type": "execute_result"
    },
    {
     "data": {
      "image/png": "[encoded data removed]",
      "text/plain": [
       "<Figure size 640x480 with 1 Axes>"
      ]
     },
     "metadata": {},
     "output_type": "display_data"
    }
   ],
   "source": [
    "# Visualize the noise-free objective function\n",
    "X_init = np.array([[-0.9], [1.1]])\n",
    "Y_init = f(X_init, noise=noise)\n",
    "\n",
    "X_plot = np.arange(bounds[:, 0], bounds[:, 1], 0.01).reshape(-1, 1)\n",
    "Y_plot = f(X_plot, noise=0)\n",
    "plt.plot(X_plot, Y_plot, 'r--', lw=2, label='Noise-free objective')\n",
    "plt.plot(X_init, Y_init, 'kx', mew=3, label='Initial noise samples')\n",
    "plt.legend()"
   ]
  },
  {
   "cell_type": "code",
   "execution_count": 14,
   "metadata": {},
   "outputs": [],
   "source": [
    "\n",
    "def expected_improvement(X,X_sample, Y_sample, gpr, xi=0.01):\n",
    "    '''\n",
    "    Computes the EI at points X based on existing samples X_sample and Y_sample using a Gaussian process surrogate model.\n",
    "    \n",
    "    Args:\n",
    "        X: Points at which EI shall be computed (m x d).\n",
    "        X_sample: Sample locations (n x d).\n",
    "        Y_sample: Sample values (n x 1).\n",
    "        gpr: A GaussianProcessRegressor fitted to samples.\n",
    "        xi: Exploitation-exploration trade-off parameter.\n",
    "    \n",
    "    Returns:\n",
    "        Expected improvements at points X.\n",
    "    '''\n",
    "    \n",
    "    mu, sigma = gpr.predict(X, return_std=True)\n",
    "    mu_sample = gpr.predict(X_sample)\n",
    "    \n",
    "    sigma = sigma.reshape(-1, 1)\n",
    "    \n",
    "    # Needed for noise-based model,\n",
    "    # otherwise use np.max(Y_sample).\n",
    "    mu_sample_opt = np.max(mu_sample)\n",
    "    \n",
    "    # np.errstate 是一个上下文管理器，用于临时改变NumPy的警告设置。在这里，divide='warn' 表示如果发生除以零的操作，NumPy将发出警告而不是错误。\n",
    "    with np.errstate(divide='warn'):\n",
    "        # 改进量的计算 xi是一个很小的值，避免分母为0\n",
    "        imp = mu - mu_sample_opt - xi \n",
    "        # Z是标准化的改进量（改进量除以标准差）\n",
    "        Z = imp / sigma\n",
    "     \n",
    "        \"\"\"\n",
    "        EI的计算\n",
    "        imp * norm.cdf(Z)：概率加权的改进量\n",
    "        这部分计算的是，如果新点的目标函数值确实比当前最佳值好，那么这种改进量的期望值是多少。\n",
    "        这里，norm.cdf(Z) 给出了新点目标函数值超过当前最佳值的概率，而 imp 是这种改进量的大小。\n",
    "        将两者相乘，我们得到了在新点找到更好解的预期概率加权改进量。\n",
    "\n",
    "\n",
    "        sigma * norm.pdf(Z)：概率密度加权的改进量 \n",
    "        这部分计算的是，即使新点的目标函数值没有超过当前最佳值，它仍然有可能在当前最佳值附近。\n",
    "        norm.pdf(Z) 给出了新点目标函数值在当前最佳值附近的概率密度，而 sigma 是目标函数值的不确定性（标准差）。\n",
    "        将两者相乘，我们得到了在新点目标函数值接近当前最佳值时的预期改进量。\n",
    "\n",
    "\n",
    "        两部分相加得到一个全面的预期改进量\n",
    "        \"\"\"\n",
    "        ei = imp * norm.cdf(Z) + sigma * norm.pdf(Z)\n",
    "        ei[sigma == 0.0] = 0.0 # 检查标准差（sigma）是否为零。如果为零，说明目标函数的方差非常小，或者函数是确定性的，因此不可能有改进。在这种情况下，Expected Improvement 被设置为零，因为没有任何改进的空间。\n",
    "    \n",
    "    return ei"
   ]
  },
  {
   "cell_type": "code",
   "execution_count": 15,
   "metadata": {},
   "outputs": [],
   "source": [
    "def propose_location(acquisition, X_sample, Y_sample, gpr, bounds, n_restarts=25):\n",
    "    '''\n",
    "    Proposes the next sampling point by optimizing the acquisition function.\n",
    "    \n",
    "    Args:\n",
    "        acquisition: Acquisition function.\n",
    "        X_sample: Sample locations (n x d).\n",
    "        Y_sample: Sample values (n x 1).\n",
    "        gpr: A GaussianProcessRegressor fitted to samples.\n",
    "        bounds: Bounds of the variable.\n",
    "        n_restarts:  为了避免Local optima，我们可以多次随机初始化优化算法的起始点。\n",
    "    \n",
    "    Returns:\n",
    "        Location of the acquisition function maximum.\n",
    "    '''\n",
    "    \n",
    "    dim = X_sample.shape[1]\n",
    "    min_val = 1\n",
    "    min_x = None\n",
    "    \n",
    "    def min_obj(X):\n",
    "        # Minimization objective is the negative acquisition function\n",
    "        return -acquisition(X.reshape(-1, dim), X_sample, Y_sample, gpr)\n",
    "    \n",
    "    #使用了SciPy库中的minimize函数来执行优化任务。代码的目的是找到给定目标函数（min_obj）的最小值，同时考虑到变量的边界约束。\n",
    "    for x0 in np.random.uniform(bounds[:, 0], bounds[:, 1], size=(n_restarts, dim)):\n",
    "        # np.random.uniform在这个边界内均匀地随机生成n_restarts个初始点，每个点有dim个变量。\n",
    "        # bounds[:, 0]和bounds[:, 1]分别定义了每个变量的最小值和最大值，这些值构成了优化问题的边界约束。\n",
    "        # 在 \"L-BFGS-B\" 中，\"B\" 代表 \"Box\"，意味着这个算法被设计来处理带有边界约束的优化问题。在这种情况下，变量的取值范围被限制在一个盒子（或称为超立方体）内。\n",
    "        res = minimize(min_obj, x0=x0, bounds=bounds, method='L-BFGS-B')\n",
    "        \n",
    "        if res.fun < min_val:\n",
    "            min_val = res.fun[0]\n",
    "            min_x = res.x\n",
    "            \n",
    "    return min_x.reshape(-1, 1)"
   ]
  },
  {
   "cell_type": "code",
   "execution_count": 16,
   "metadata": {},
   "outputs": [],
   "source": [
    "def plot_approximation(gpr, X_plot, Y_plot, X_sample, Y_sample, X_next=None, show_legend=False):\n",
    "    mu, std = gpr.predict(X_plot, return_std=True)\n",
    "    plt.fill_between(X_plot.ravel(),mu.ravel() + 1.96 * std, mu.ravel() - 1.96 * std, alpha=0.1)\n",
    "    plt.plot(X_plot, Y_plot, 'r-', lw=1, label='Noise-free objective')\n",
    "    plt.plot(X_plot, mu, 'b-', lw=1, label='Surrogate function')\n",
    "    plt.plot(X_sample, Y_sample, 'kx', mew=3, label='Noisy samples')\n",
    "\n",
    "    if X_next:\n",
    "        plt.axvline(x=X_next,color='k',linestyle='--', lw=1)\n",
    "    if show_legend:\n",
    "        plt.legend()\n",
    "\n",
    "def plot_acquisition(X_plot, acq_value, X_next, show_legend=False):\n",
    "    plt.plot(X_plot, acq_value, 'r-', lw=1, label='Acquisition function')\n",
    "    plt.axvline(x=X_next,color='k',linestyle='--', lw=1, label='Next sampling location')\n",
    "    if show_legend:\n",
    "        plt.legend()\n",
    "\n",
    "def plot_convergence(X_sample, Y_sample, n_init=2):\n",
    "    plt.figure(figsize=(12, 3))\n",
    "\n",
    "    x = X_sample[n_init:].ravel()\n",
    "    y = Y_sample[n_init:].ravel()\n",
    "    r = range(1, len(x)+1)\n",
    "  \n",
    "    x_neighbor_dist = [np.abs(a-b) for a, b in zip(x, x[1:])]\n",
    "    y_max = np.maximum.accumulate(y)\n",
    "\n",
    "    plt.subplot(1, 2, 1)\n",
    "    plt.plot(r[1:], x_neighbor_dist, 'bo-')\n",
    "    plt.xlabel('Iteration')\n",
    "    plt.ylabel('Distance')\n",
    "    plt.title('Distance between consecutive x\\'s')\n",
    "    plt.subplot(1, 2, 2)\n",
    "    plt.plot(r, y_max, 'ro-')\n",
    "    plt.xlabel('Iteration')\n",
    "    plt.ylabel('Best Y')\n",
    "    plt.title('Value of best selected sample')"
   ]
  },
  {
   "cell_type": "code",
   "execution_count": 17,
   "metadata": {},
   "outputs": [],
   "source": [
    "m52 = ConstantKernel(1.0) * Matern(length_scale=1.0, nu=2.5)\n",
    "gpr = GaussianProcessRegressor(kernel=m52, alpha=noise**2)"
   ]
  },
  {
   "cell_type": "code",
   "execution_count": null,
   "metadata": {},
   "outputs": [],
   "source": []
  },
  {
   "cell_type": "code",
   "execution_count": null,
   "metadata": {},
   "outputs": [],
   "source": []
  }
 ],
 "metadata": {
  "kernelspec": {
   "display_name": "nn3.10",
   "language": "python",
   "name": "python3"
  },
  "language_info": {
   "codemirror_mode": {
    "name": "ipython",
    "version": 3
   },
   "file_extension": ".py",
   "mimetype": "text/x-python",
   "name": "python",
   "nbconvert_exporter": "python",
   "pygments_lexer": "ipython3",
   "version": "3.10.12"
  }
 },
 "nbformat": 4,
 "nbformat_minor": 2
}
